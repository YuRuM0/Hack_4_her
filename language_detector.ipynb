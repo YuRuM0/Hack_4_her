import spacy
from spacy.language import Language
from spacy_langdetect import LanguageDetector
import pandas as pd #df
from tqdm import tqdm #progress bars

nlp = spacy.load("nl_core_news_sm")
df = pd.read_csv('/content/hack4her/labeled_vacancies_final.csv')
texts = df.iloc[:, 0].tolist()

texts = [str(text) for text in texts]

@Language.factory("language_detector")
def create_language_detector(nlp, name):
  return LanguageDetector()
nlp.add_pipe("language_detector", last=True)

def is_english(text):
    doc = nlp(text)
    detect_language = doc._.language
    return detect_language['language'] == 'en'
  
english_checks = [is_english(text) for text in tqdm(texts, desc="Checking for English")]
english_ads = [text for text, is_eng in zip(texts, english_checks) if is_eng]
dutch_ads = [text for text, is_eng in zip(texts, english_checks) if not is_eng]


MAX_SIZE = 500

def split_into_batches(text, max_size=500):
    batches = []
    current = ""
    for sentence in text.split('.'):
        if len(current) + len(sentence) < max_size:
            current += sentence + "."
        else:
            batches.append(current)
            current = sentence + "."
    if current:
        batches.append(current)
    return batches


for text in tqdm(dutch_ads, desc='Translating- Dutch to English'):
    batches = split_into_batches(text, max_size=MAX_SIZE)
    translated_batches = []
    for batch in batches:
        try:
            translated = translator.translate(batch)
            translated_batches.append(translated)
        except Exception as e:
            print(f"Error translating batch: {e}")

    dutch_translated.append(" ".join(translated_batches))

