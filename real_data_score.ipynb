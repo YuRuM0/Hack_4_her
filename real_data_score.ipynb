{
 "cells": [
  {
   "cell_type": "code",
   "execution_count": 2,
   "metadata": {},
   "outputs": [
    {
     "name": "stdout",
     "output_type": "stream",
     "text": [
      "Collecting genderdecoder3\n",
      "  Downloading genderdecoder3-0.5.tar.gz (3.0 kB)\n",
      "  Preparing metadata (setup.py) ... \u001b[?25ldone\n",
      "\u001b[?25hBuilding wheels for collected packages: genderdecoder3\n",
      "  Building wheel for genderdecoder3 (setup.py) ... \u001b[?25ldone\n",
      "\u001b[?25h  Created wheel for genderdecoder3: filename=genderdecoder3-0.5-py3-none-any.whl size=2999 sha256=96fd18bd04f33f984880d1f553dd42edf234c22715024af70f97bd862ae8173c\n",
      "  Stored in directory: /Users/yuleumpark/Library/Caches/pip/wheels/aa/1a/ef/87d8e87211ab3a1c7b28cc260b268d32763ef36b66ba79c753\n",
      "Successfully built genderdecoder3\n",
      "Installing collected packages: genderdecoder3\n",
      "Successfully installed genderdecoder3-0.5\n",
      "\n",
      "\u001b[1m[\u001b[0m\u001b[34;49mnotice\u001b[0m\u001b[1;39;49m]\u001b[0m\u001b[39;49m A new release of pip is available: \u001b[0m\u001b[31;49m24.3.1\u001b[0m\u001b[39;49m -> \u001b[0m\u001b[32;49m25.1.1\u001b[0m\n",
      "\u001b[1m[\u001b[0m\u001b[34;49mnotice\u001b[0m\u001b[1;39;49m]\u001b[0m\u001b[39;49m To update, run: \u001b[0m\u001b[32;49mpip install --upgrade pip\u001b[0m\n",
      "Note: you may need to restart the kernel to use updated packages.\n"
     ]
    }
   ],
   "source": [
    "#pip install genderdecoder3"
   ]
  },
  {
   "cell_type": "code",
   "execution_count": 1,
   "metadata": {},
   "outputs": [],
   "source": [
    "import genderdecoder3\n",
    "import re\n",
    "import pandas as pd\n",
    "from collections import Counter\n",
    "from genderdecoder3 import assess\n",
    "from sklearn.feature_extraction.text import TfidfVectorizer"
   ]
  },
  {
   "cell_type": "code",
   "execution_count": 2,
   "metadata": {},
   "outputs": [],
   "source": [
    "real_df = pd.read_csv(\"labelled_cleaned.csv\")"
   ]
  },
  {
   "cell_type": "code",
   "execution_count": 3,
   "metadata": {},
   "outputs": [
    {
     "data": {
      "text/html": [
       "<div>\n",
       "<style scoped>\n",
       "    .dataframe tbody tr th:only-of-type {\n",
       "        vertical-align: middle;\n",
       "    }\n",
       "\n",
       "    .dataframe tbody tr th {\n",
       "        vertical-align: top;\n",
       "    }\n",
       "\n",
       "    .dataframe thead th {\n",
       "        text-align: right;\n",
       "    }\n",
       "</style>\n",
       "<table border=\"1\" class=\"dataframe\">\n",
       "  <thead>\n",
       "    <tr style=\"text-align: right;\">\n",
       "      <th></th>\n",
       "      <th>company_name</th>\n",
       "      <th>job_description</th>\n",
       "    </tr>\n",
       "  </thead>\n",
       "  <tbody>\n",
       "    <tr>\n",
       "      <th>0</th>\n",
       "      <td>ministerie van financi n: belastingdienst</td>\n",
       "      <td>tmap next foundation ervaring met projecten in...</td>\n",
       "    </tr>\n",
       "    <tr>\n",
       "      <th>1</th>\n",
       "      <td>belastingdienst</td>\n",
       "      <td>- gecertificeerd scrum master, minimaal psm ii...</td>\n",
       "    </tr>\n",
       "    <tr>\n",
       "      <th>2</th>\n",
       "      <td>duo</td>\n",
       "      <td>3 jaar ervaring in het volgende eisenpakket:\\n...</td>\n",
       "    </tr>\n",
       "    <tr>\n",
       "      <th>3</th>\n",
       "      <td>dienst uitvoering onderwijs (duo)</td>\n",
       "      <td>5 jaar ervaring met de volgende eisen:\\n relev...</td>\n",
       "    </tr>\n",
       "    <tr>\n",
       "      <th>4</th>\n",
       "      <td>asml netherlands b.v.</td>\n",
       "      <td>location: veldhoven\\nnone\\n company info:  \\n ...</td>\n",
       "    </tr>\n",
       "  </tbody>\n",
       "</table>\n",
       "</div>"
      ],
      "text/plain": [
       "                                company_name  \\\n",
       "0  ministerie van financi n: belastingdienst   \n",
       "1                            belastingdienst   \n",
       "2                                        duo   \n",
       "3          dienst uitvoering onderwijs (duo)   \n",
       "4                      asml netherlands b.v.   \n",
       "\n",
       "                                     job_description  \n",
       "0  tmap next foundation ervaring met projecten in...  \n",
       "1  - gecertificeerd scrum master, minimaal psm ii...  \n",
       "2  3 jaar ervaring in het volgende eisenpakket:\\n...  \n",
       "3  5 jaar ervaring met de volgende eisen:\\n relev...  \n",
       "4  location: veldhoven\\nnone\\n company info:  \\n ...  "
      ]
     },
     "execution_count": 3,
     "metadata": {},
     "output_type": "execute_result"
    }
   ],
   "source": [
    "real_df.head()"
   ]
  },
  {
   "cell_type": "code",
   "execution_count": 4,
   "metadata": {},
   "outputs": [],
   "source": [
    "job_descriptions = real_df['job_description'].astype(str).tolist()\n",
    "vectorizer = TfidfVectorizer()\n",
    "tfidf_matrix = vectorizer.fit_transform(job_descriptions)\n",
    "feature_names = vectorizer.get_feature_names_out()\n",
    "\n",
    "def tfidf_bias_score(tfidf_vector, feature_names, masc_words, fem_words):\n",
    "\ttfidf_scores = dict(zip(feature_names, tfidf_vector.toarray()[0]))\n",
    "\tmasc_score = sum(tfidf_scores.get(word, 0) for word in masc_words)\n",
    "\tfem_score = sum(tfidf_scores.get(word, 0) for word in fem_words)\n",
    "\treturn masc_score - fem_score\n",
    "\n",
    "# Apply decoding and scoring per job\n",
    "bias_scores = []\n",
    "gender_labels = []\n",
    "masc_words = []\n",
    "fem_words = []\n",
    "\n",
    "for i, text in enumerate(job_descriptions):\n",
    "\tresult = assess(text)  # returns a dict directly\n",
    "\tmasc_words += result['masculine_coded_words']\n",
    "\tfem_words += result['feminine_coded_words']\n",
    "\tbias_score = tfidf_bias_score(tfidf_matrix[i], feature_names, masc_words, fem_words)\n",
    "\n",
    "\tbias_scores.append(bias_score)\n",
    "\tgender_labels.append(result['result'])\n",
    "\n",
    "def classify_coding(masc_words, fem_words):\n",
    "\tif len(masc_words) > len(fem_words):\n",
    "\t\treturn \"masculine-coded\", (len(masc_words) - len(fem_words))\n",
    "\telif len(fem_words) > len(masc_words):\n",
    "\t\treturn \"feminine-coded\", (len(masc_words) - len(fem_words))\n",
    "\telse:\n",
    "\t\treturn \"neutral\", (len(masc_words) - len(fem_words))"
   ]
  },
  {
   "cell_type": "code",
   "execution_count": 5,
   "metadata": {},
   "outputs": [],
   "source": [
    "feminine_coded_words = [\n",
    "    \"agree\", \"affectionate\", \"child\", \"cheer\", \"collab\", \"commit\", \"communal\",\n",
    "    \"compassion\", \"connect\", \"considerate\", \"cooperat\", \"co-operat\", \"depend\",\n",
    "    \"emotiona\", \"empath\", \"feel\", \"flatterable\", \"gentle\", \"honest\",\n",
    "    \"interpersonal\", \"interdependen\", \"interpersona\", \"inter-personal\", \"inter-dependen\",\n",
    "    \"inter-persona\", \"kind\", \"kinship\", \"loyal\", \"modesty\", \"nag\", \"nurtur\",\n",
    "    \"pleasant\", \"polite\", \"quiet\", \"respon\", \"sensitiv\", \"submissive\", \"support\",\n",
    "    \"sympath\", \"tender\", \"together\", \"trust\", \"understand\", \"warm\", \"whin\",\n",
    "    \"enthusias\", \"inclusive\", \"yield\", \"share\", \"sharin\"\n",
    "]\n",
    "\n",
    "masculine_coded_words = [\n",
    "    \"active\", \"adventurous\", \"aggress\", \"ambitio\", \"analy\", \"assert\", \"athlet\",\n",
    "    \"autonom\", \"battle\", \"boast\", \"challeng\", \"champion\", \"compet\", \"confident\",\n",
    "    \"courag\", \"decid\", \"decision\", \"decisive\", \"defend\", \"determin\", \"domina\",\n",
    "    \"dominant\", \"driven\", \"fearless\", \"fight\", \"force\", \"greedy\", \"head-strong\",\n",
    "    \"headstrong\", \"hierarch\", \"hostil\", \"impulsive\", \"independen\", \"individual\",\n",
    "    \"intellect\", \"lead\", \"logic\", \"objective\", \"opinion\", \"outspoken\", \"persist\",\n",
    "    \"principle\", \"reckless\", \"self-confiden\", \"self-relian\", \"self-sufficien\",\n",
    "    \"selfconfiden\", \"selfrelian\", \"selfsufficien\", \"stubborn\", \"superior\", \"unreasonab\"\n",
    "]"
   ]
  },
  {
   "cell_type": "code",
   "execution_count": 9,
   "metadata": {},
   "outputs": [],
   "source": [
    "from deep_translator import GoogleTranslator\n",
    "import re\n",
    "\n",
    "def translate_stems(stems):\n",
    "\ttranslator = GoogleTranslator(source=\"en\", target=\"nl\")\n",
    "\ttranslated = []\n",
    "\tfor stem in stems:\n",
    "\t\ttry:\n",
    "\t\t\ttranslated.append(translator.translate(stem))\n",
    "\t\texcept:\n",
    "\t\t\ttranslated.append(stem)\n",
    "\treturn translated\n",
    "\n",
    "translated_feminine = translate_stems(feminine_coded_words)\n",
    "translated_masculine = translate_stems(masculine_coded_words)\n"
   ]
  },
  {
   "cell_type": "code",
   "execution_count": 11,
   "metadata": {},
   "outputs": [],
   "source": [
    "masculine_coded_words.append(translated_masculine)\n",
    "feminine_coded_words.append(translated_feminine)"
   ]
  },
  {
   "cell_type": "code",
   "execution_count": null,
   "metadata": {},
   "outputs": [],
   "source": [
    "for word in translated_feminine:\n",
    "\tprint(f'{word}\\n')"
   ]
  },
  {
   "cell_type": "code",
   "execution_count": 12,
   "metadata": {},
   "outputs": [
    {
     "ename": "NameError",
     "evalue": "name 'synthetic_df' is not defined",
     "output_type": "error",
     "traceback": [
      "\u001b[0;31m---------------------------------------------------------------------------\u001b[0m",
      "\u001b[0;31mNameError\u001b[0m                                 Traceback (most recent call last)",
      "\u001b[1;32m/Users/yuleumpark/Desktop/Hack4her/Sunda/real_data_score.ipynb Cell 10\u001b[0m line \u001b[0;36m6\n\u001b[1;32m      <a href='vscode-notebook-cell:/Users/yuleumpark/Desktop/Hack4her/Sunda/real_data_score.ipynb#X11sZmlsZQ%3D%3D?line=2'>3</a>\u001b[0m     \u001b[39mreturn\u001b[39;00m \u001b[39msum\u001b[39m(\u001b[39m1\u001b[39m \u001b[39mfor\u001b[39;00m token \u001b[39min\u001b[39;00m tokens \u001b[39mfor\u001b[39;00m stem \u001b[39min\u001b[39;00m stem_list \u001b[39mif\u001b[39;00m stem \u001b[39min\u001b[39;00m token)\n\u001b[1;32m      <a href='vscode-notebook-cell:/Users/yuleumpark/Desktop/Hack4her/Sunda/real_data_score.ipynb#X11sZmlsZQ%3D%3D?line=4'>5</a>\u001b[0m \u001b[39m# Main loop: analyze each job description\u001b[39;00m\n\u001b[0;32m----> <a href='vscode-notebook-cell:/Users/yuleumpark/Desktop/Hack4her/Sunda/real_data_score.ipynb#X11sZmlsZQ%3D%3D?line=5'>6</a>\u001b[0m \u001b[39mfor\u001b[39;00m idx, row \u001b[39min\u001b[39;00m synthetic_df\u001b[39m.\u001b[39miterrows():\n\u001b[1;32m      <a href='vscode-notebook-cell:/Users/yuleumpark/Desktop/Hack4her/Sunda/real_data_score.ipynb#X11sZmlsZQ%3D%3D?line=6'>7</a>\u001b[0m     job_description_nl \u001b[39m=\u001b[39m \u001b[39mstr\u001b[39m(row[\u001b[39m\"\u001b[39m\u001b[39mjob_description\u001b[39m\u001b[39m\"\u001b[39m])\n\u001b[1;32m      <a href='vscode-notebook-cell:/Users/yuleumpark/Desktop/Hack4her/Sunda/real_data_score.ipynb#X11sZmlsZQ%3D%3D?line=7'>8</a>\u001b[0m     tokens \u001b[39m=\u001b[39m re\u001b[39m.\u001b[39mfindall(\u001b[39mr\u001b[39m\u001b[39m'\u001b[39m\u001b[39m\\\u001b[39m\u001b[39mb\u001b[39m\u001b[39m\\\u001b[39m\u001b[39mw+\u001b[39m\u001b[39m\\\u001b[39m\u001b[39mb\u001b[39m\u001b[39m'\u001b[39m, job_description_nl\u001b[39m.\u001b[39mlower())\n",
      "\u001b[0;31mNameError\u001b[0m: name 'synthetic_df' is not defined"
     ]
    }
   ],
   "source": [
    "# Count partial matches\n",
    "def count_partial_matches(tokens, stem_list):\n",
    "    return sum(1 for token in tokens for stem in stem_list if stem in token)\n",
    "\n",
    "# Main loop: analyze each job description\n",
    "for idx, row in synthetic_df.iterrows():\n",
    "    job_description_nl = str(row[\"job_description\"])\n",
    "    tokens = re.findall(r'\\b\\w+\\b', job_description_nl.lower())\n",
    "\n",
    "    fem_count = count_partial_matches(tokens, feminine_coded_words)\n",
    "    masc_count = count_partial_matches(tokens, masculine_coded_words)\n",
    "\n",
    "    # Save counts\n",
    "    synthetic_df.at[idx, \"feminine_word_count\"] = fem_count\n",
    "    synthetic_df.at[idx, \"masculine_word_count\"] = masc_count\n",
    "\n",
    "    # Assign bias label\n",
    "    if masc_count > fem_count:\n",
    "        label = \"Mannelijke bias\"\n",
    "    elif fem_count > masc_count:\n",
    "        label = \"Vrouwelijke bias\"\n",
    "    else:\n",
    "        label = \"Neutraal\"\n",
    "    synthetic_df.at[idx, \"bias_label\"] = label\n",
    "\n",
    "# Print final result\n",
    "print(synthetic_df[[\"job_title\", \"feminine_word_count\", \"masculine_word_count\", \"bias_label\"]])"
   ]
  }
 ],
 "metadata": {
  "kernelspec": {
   "display_name": "base",
   "language": "python",
   "name": "python3"
  },
  "language_info": {
   "codemirror_mode": {
    "name": "ipython",
    "version": 3
   },
   "file_extension": ".py",
   "mimetype": "text/x-python",
   "name": "python",
   "nbconvert_exporter": "python",
   "pygments_lexer": "ipython3",
   "version": "3.12.2"
  },
  "orig_nbformat": 4
 },
 "nbformat": 4,
 "nbformat_minor": 2
}
