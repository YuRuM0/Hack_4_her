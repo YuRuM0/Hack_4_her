{
 "cells": [
  {
   "cell_type": "code",
   "execution_count": 38,
   "id": "b89ae123",
   "metadata": {},
   "outputs": [],
   "source": [
    "import pandas as pd\n",
    "import numpy as np\n",
    "from sklearn.feature_extraction.text import CountVectorizer, TfidfTransformer\n",
    "from sklearn.feature_extraction.text import CountVectorizer \n",
    "from docx import Document\n"
   ]
  },
  {
   "cell_type": "code",
   "execution_count": 44,
   "id": "4cd196d3",
   "metadata": {},
   "outputs": [],
   "source": [
    "# bin_df = df[mask]\n",
    "\t# filename = f\"women_{start:.1f}_to_{end:.1f}.csv\"\n",
    "\t# if not bin_df.empty:\n",
    "\t# \tbin_df.to_csv(filename, index=False)\n"
   ]
  },
  {
   "cell_type": "code",
   "execution_count": 56,
   "id": "628bd3f6",
   "metadata": {},
   "outputs": [],
   "source": [
    "doc = pd.read_csv('synthetic_vacancies_final.csv')\n",
    "\n",
    "df = pd.DataFrame(doc).iloc[99:199].sort_values('women_proportion')\n",
    "df = df.dropna(subset=['job_description', 'women_proportion'])\n",
    "\n",
    "separated_dfs = {}\n",
    "\n",
    "for start in np.arange(0.0, 1.0, 0.1):\n",
    "\tend = start + 0.1\n",
    "\tmask = (df['women_proportion'] >= start) & (df['women_proportion'] < end)\n",
    "\tbin_df = df[mask]\n",
    "\tone_df = f\"{start:.1f}-{end:.1f}\"\n",
    "\tseparated_dfs[one_df] = bin_df\n",
    "\t\n",
    "threshold = df['women_proportion'].median() # gets the half\n",
    "low_women = df[df['women_proportion'] <= threshold]\n",
    "high_women = df[df['women_proportion'] > threshold]\n"
   ]
  },
  {
   "cell_type": "code",
   "execution_count": 59,
   "id": "592b41e6",
   "metadata": {},
   "outputs": [
    {
     "name": "stdout",
     "output_type": "stream",
     "text": [
      "--- 0.0-0.1 ---\n",
      "Empty DataFrame\n",
      "Columns: [job_description, women_proportion]\n",
      "Index: []\n",
      "--- 0.1-0.2 ---\n",
      "Empty DataFrame\n",
      "Columns: [job_description, women_proportion]\n",
      "Index: []\n",
      "--- 0.2-0.3 ---\n",
      "                                       job_description  women_proportion\n",
      "112  Title: Data Scientist. Description: We are see...          0.200425\n",
      "182  Title: Scrum Master. Description: We are looki...          0.203678\n",
      "150  Title: Network Administrator. Description: We ...          0.204185\n",
      "125  Title: Security Engineer. Description: We are ...          0.214452\n",
      "151  Title: Mobile Architect. Description: We requi...          0.216282\n",
      "--- 0.3-0.4 ---\n",
      "                                       job_description  women_proportion\n",
      "160  Title: Change Management Specialist (IT). Desc...          0.301667\n",
      "132  Title: Machine Learning Scientist. Description...          0.306079\n",
      "184  Title: Security Researcher. Description: We ar...          0.316862\n",
      "141  Title: Automation Engineer. Description: We ar...          0.317652\n",
      "145  Title: IT Trainer. Description: We are seeking...          0.326695\n",
      "--- 0.4-0.5 ---\n",
      "                                       job_description  women_proportion\n",
      "131  Job Title: Software Engineer. Job Description:...          0.439533\n",
      "173  Job Title: Systems Administrator. Job Descript...          0.458980\n",
      "166  Job Title: Solutions Architect. Job Descriptio...          0.464072\n",
      "126  Job Title: AI Specialist. Job Description: Our...          0.466205\n",
      "180  Job Title: Front-End Developer. Job Descriptio...          0.468471\n",
      "--- 0.5-0.6 ---\n",
      "                                       job_description  women_proportion\n",
      "99   Job Title: Information Systems Manager. Job De...          0.509958\n",
      "196  Job Title: Software Developer. Job Description...          0.512255\n",
      "183  Job Title: Game Developer. Job Description: Jo...          0.519543\n",
      "154  Job Title: data scientist. Job Description: We...          0.530000\n",
      "128  Title: Game Developer. Description: We are see...          0.530000\n",
      "--- 0.6-0.7 ---\n",
      "                                       job_description  women_proportion\n",
      "102  Job Title: UI developer\\nJob Description: We a...          0.601803\n",
      "192  Job Title: AI developer\\nJob Description: We a...          0.611627\n",
      "188  Job Title: Mobile applications developer\\nJob ...          0.613012\n",
      "110  Title: Engineering Manager. Description: We ar...          0.620856\n",
      "187  Title: Senior QA Automation Engineer. Descript...          0.624554\n",
      "--- 0.7-0.8 ---\n",
      "                                       job_description  women_proportion\n",
      "167  Job Title: Web developer\\nJob Description: We ...          0.710718\n",
      "190  Title: Junior UX Researcher. Description: We a...          0.716286\n",
      "179  Title: IT Asset Management Coordinator. Descri...          0.718869\n",
      "144  Title: Quality Assurance Manager. Description:...          0.722975\n",
      "153  Title: UX/UI Designer. Description: We are loo...          0.730341\n",
      "--- 0.8-0.9 ---\n",
      "Empty DataFrame\n",
      "Columns: [job_description, women_proportion]\n",
      "Index: []\n",
      "--- 0.9-1.0 ---\n",
      "Empty DataFrame\n",
      "Columns: [job_description, women_proportion]\n",
      "Index: []\n"
     ]
    }
   ],
   "source": [
    "# Print every 10%\n",
    "for range_label, val in separated_dfs.items():\n",
    "\tprint(f\"--- {range_label} ---\")\n",
    "\tprint(val.head())"
   ]
  }
 ],
 "metadata": {
  "kernelspec": {
   "display_name": "Python 3",
   "language": "python",
   "name": "python3"
  },
  "language_info": {
   "codemirror_mode": {
    "name": "ipython",
    "version": 3
   },
   "file_extension": ".py",
   "mimetype": "text/x-python",
   "name": "python",
   "nbconvert_exporter": "python",
   "pygments_lexer": "ipython3",
   "version": "3.9.6"
  }
 },
 "nbformat": 4,
 "nbformat_minor": 5
}
