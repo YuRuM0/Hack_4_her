{
 "cells": [
  {
   "cell_type": "code",
   "execution_count": 11,
   "metadata": {},
   "outputs": [],
   "source": [
    "import pandas as pd\n",
    "from sklearn.feature_extraction.text import TfidfVectorizer\n",
    "from collections import defaultdict, Counter, OrderedDict\n",
    "\n",
    "vectorizer = TfidfVectorizer() "
   ]
  },
  {
   "cell_type": "code",
   "execution_count": 25,
   "metadata": {},
   "outputs": [
    {
     "name": "stdout",
     "output_type": "stream",
     "text": [
      "Total Job Description 366\n"
     ]
    }
   ],
   "source": [
    "synthetic_df = pd.read_csv(\"data_csv_format/synthetic_vacancies_final.csv\")\n",
    "print(\"Total Job Description\", synthetic_df.shape[0])"
   ]
  },
  {
   "cell_type": "code",
   "execution_count": 28,
   "metadata": {},
   "outputs": [
    {
     "data": {
      "text/html": [
       "<div>\n",
       "<style scoped>\n",
       "    .dataframe tbody tr th:only-of-type {\n",
       "        vertical-align: middle;\n",
       "    }\n",
       "\n",
       "    .dataframe tbody tr th {\n",
       "        vertical-align: top;\n",
       "    }\n",
       "\n",
       "    .dataframe thead th {\n",
       "        text-align: right;\n",
       "    }\n",
       "</style>\n",
       "<table border=\"1\" class=\"dataframe\">\n",
       "  <thead>\n",
       "    <tr style=\"text-align: right;\">\n",
       "      <th></th>\n",
       "      <th>job_description</th>\n",
       "      <th>women_proportion</th>\n",
       "    </tr>\n",
       "  </thead>\n",
       "  <tbody>\n",
       "    <tr>\n",
       "      <th>112</th>\n",
       "      <td>Title: Data Scientist. Description: We are see...</td>\n",
       "      <td>0.200425</td>\n",
       "    </tr>\n",
       "    <tr>\n",
       "      <th>22</th>\n",
       "      <td>Title: Technical Program Manager. Description:...</td>\n",
       "      <td>0.201357</td>\n",
       "    </tr>\n",
       "    <tr>\n",
       "      <th>222</th>\n",
       "      <td>Title: IT Manager. Description: We are looking...</td>\n",
       "      <td>0.201706</td>\n",
       "    </tr>\n",
       "    <tr>\n",
       "      <th>182</th>\n",
       "      <td>Title: Scrum Master. Description: We are looki...</td>\n",
       "      <td>0.203678</td>\n",
       "    </tr>\n",
       "    <tr>\n",
       "      <th>150</th>\n",
       "      <td>Title: Network Administrator. Description: We ...</td>\n",
       "      <td>0.204185</td>\n",
       "    </tr>\n",
       "    <tr>\n",
       "      <th>9</th>\n",
       "      <td>Job Title: user interface developer. Job Descr...</td>\n",
       "      <td>0.211380</td>\n",
       "    </tr>\n",
       "    <tr>\n",
       "      <th>255</th>\n",
       "      <td>Title: ETL Developer. Description: We are look...</td>\n",
       "      <td>0.211791</td>\n",
       "    </tr>\n",
       "    <tr>\n",
       "      <th>125</th>\n",
       "      <td>Title: Security Engineer. Description: We are ...</td>\n",
       "      <td>0.214452</td>\n",
       "    </tr>\n",
       "    <tr>\n",
       "      <th>151</th>\n",
       "      <td>Title: Mobile Architect. Description: We requi...</td>\n",
       "      <td>0.216282</td>\n",
       "    </tr>\n",
       "    <tr>\n",
       "      <th>267</th>\n",
       "      <td>Title: Director of Information Technology. Des...</td>\n",
       "      <td>0.217306</td>\n",
       "    </tr>\n",
       "  </tbody>\n",
       "</table>\n",
       "</div>"
      ],
      "text/plain": [
       "                                       job_description  women_proportion\n",
       "112  Title: Data Scientist. Description: We are see...          0.200425\n",
       "22   Title: Technical Program Manager. Description:...          0.201357\n",
       "222  Title: IT Manager. Description: We are looking...          0.201706\n",
       "182  Title: Scrum Master. Description: We are looki...          0.203678\n",
       "150  Title: Network Administrator. Description: We ...          0.204185\n",
       "9    Job Title: user interface developer. Job Descr...          0.211380\n",
       "255  Title: ETL Developer. Description: We are look...          0.211791\n",
       "125  Title: Security Engineer. Description: We are ...          0.214452\n",
       "151  Title: Mobile Architect. Description: We requi...          0.216282\n",
       "267  Title: Director of Information Technology. Des...          0.217306"
      ]
     },
     "execution_count": 28,
     "metadata": {},
     "output_type": "execute_result"
    }
   ],
   "source": [
    "synthetic_df.nsmallest(n=10, columns=[\"women_proportion\"])"
   ]
  },
  {
   "cell_type": "code",
   "execution_count": 29,
   "metadata": {},
   "outputs": [
    {
     "data": {
      "text/html": [
       "<div>\n",
       "<style scoped>\n",
       "    .dataframe tbody tr th:only-of-type {\n",
       "        vertical-align: middle;\n",
       "    }\n",
       "\n",
       "    .dataframe tbody tr th {\n",
       "        vertical-align: top;\n",
       "    }\n",
       "\n",
       "    .dataframe thead th {\n",
       "        text-align: right;\n",
       "    }\n",
       "</style>\n",
       "<table border=\"1\" class=\"dataframe\">\n",
       "  <thead>\n",
       "    <tr style=\"text-align: right;\">\n",
       "      <th></th>\n",
       "      <th>job_description</th>\n",
       "      <th>women_proportion</th>\n",
       "    </tr>\n",
       "  </thead>\n",
       "  <tbody>\n",
       "    <tr>\n",
       "      <th>27</th>\n",
       "      <td>Title: E-commerce Specialist. Description: We ...</td>\n",
       "      <td>0.798405</td>\n",
       "    </tr>\n",
       "    <tr>\n",
       "      <th>185</th>\n",
       "      <td>Job Title: Robotics engineer\\nJob Description:...</td>\n",
       "      <td>0.798279</td>\n",
       "    </tr>\n",
       "    <tr>\n",
       "      <th>254</th>\n",
       "      <td>Title: Content Strategist. Description: We are...</td>\n",
       "      <td>0.794079</td>\n",
       "    </tr>\n",
       "    <tr>\n",
       "      <th>193</th>\n",
       "      <td>Title: IT Support Specialist. Description: We ...</td>\n",
       "      <td>0.792439</td>\n",
       "    </tr>\n",
       "    <tr>\n",
       "      <th>260</th>\n",
       "      <td>Title: Quality Assurance Analyst. Description:...</td>\n",
       "      <td>0.791905</td>\n",
       "    </tr>\n",
       "    <tr>\n",
       "      <th>219</th>\n",
       "      <td>Title: Partner Success Manager. Description: O...</td>\n",
       "      <td>0.791104</td>\n",
       "    </tr>\n",
       "    <tr>\n",
       "      <th>163</th>\n",
       "      <td>Title: Marketing Analyst. Description: We are ...</td>\n",
       "      <td>0.789447</td>\n",
       "    </tr>\n",
       "    <tr>\n",
       "      <th>292</th>\n",
       "      <td>Title: Business Analyst. Description: Our team...</td>\n",
       "      <td>0.786519</td>\n",
       "    </tr>\n",
       "    <tr>\n",
       "      <th>54</th>\n",
       "      <td>Title: Data Analyst. Description: Our organiza...</td>\n",
       "      <td>0.783392</td>\n",
       "    </tr>\n",
       "    <tr>\n",
       "      <th>105</th>\n",
       "      <td>Title: Technical Account Manager. Description:...</td>\n",
       "      <td>0.782520</td>\n",
       "    </tr>\n",
       "  </tbody>\n",
       "</table>\n",
       "</div>"
      ],
      "text/plain": [
       "                                       job_description  women_proportion\n",
       "27   Title: E-commerce Specialist. Description: We ...          0.798405\n",
       "185  Job Title: Robotics engineer\\nJob Description:...          0.798279\n",
       "254  Title: Content Strategist. Description: We are...          0.794079\n",
       "193  Title: IT Support Specialist. Description: We ...          0.792439\n",
       "260  Title: Quality Assurance Analyst. Description:...          0.791905\n",
       "219  Title: Partner Success Manager. Description: O...          0.791104\n",
       "163  Title: Marketing Analyst. Description: We are ...          0.789447\n",
       "292  Title: Business Analyst. Description: Our team...          0.786519\n",
       "54   Title: Data Analyst. Description: Our organiza...          0.783392\n",
       "105  Title: Technical Account Manager. Description:...          0.782520"
      ]
     },
     "execution_count": 29,
     "metadata": {},
     "output_type": "execute_result"
    }
   ],
   "source": [
    "synthetic_df.nlargest(n=10, columns=[\"women_proportion\"])"
   ]
  },
  {
   "cell_type": "code",
   "execution_count": 33,
   "metadata": {},
   "outputs": [],
   "source": [
    "#synthetic_job_descript = synthetic_df[\"job_description\"].astype(str).tolist()\n",
    "tfidf_synthetic = vectorizer.fit_transform(synthetic_df[\"job_description\"])"
   ]
  },
  {
   "cell_type": "code",
   "execution_count": 32,
   "metadata": {},
   "outputs": [
    {
     "name": "stdout",
     "output_type": "stream",
     "text": [
      "\n",
      "idf values:\n",
      "[('100', 6.212214667494625), ('2d', 6.212214667494625), ('365', 6.212214667494625), ('3ds', 6.212214667494625), ('absolute', 6.212214667494625), ('accelerate', 6.212214667494625), ('accelerates', 6.212214667494625), ('accelerating', 6.212214667494625), ('acceptable', 6.212214667494625), ('acceptance', 6.212214667494625), ('achieved', 6.212214667494625), ('achievements', 6.212214667494625), ('achieves', 6.212214667494625), ('acquiring', 6.212214667494625), ('acquisition', 6.212214667494625), ('activity', 6.212214667494625), ('actor', 6.212214667494625), ('actors', 6.212214667494625), ('acts', 6.212214667494625), ('actual', 6.212214667494625)]\n"
     ]
    }
   ],
   "source": [
    "tf_idf_list = zip(vectorizer.get_feature_names_out(), vectorizer.idf_)\n",
    "sorted_tf_idf = sorted(tf_idf_list, key = lambda x:x[1], reverse=True)\n",
    "print('\\nidf values:')"
   ]
  },
  {
   "cell_type": "markdown",
   "metadata": {},
   "source": [
    "TF-IDF highlights words that characterise a specific job description.\n",
    "\n",
    "For each job ad, take the top 5 TF-IDF words\n",
    "Group ads by high vs low women_proportion\n",
    "See which words keep appearing in each group\n",
    "See which TF-IDF words statistically associate with higher/lower women’s application rates\n",
    "Build a regression model (e.g., Ridge or Lasso) to predict women_proportion from TF-IDF vectors"
   ]
  },
  {
   "cell_type": "code",
   "execution_count": null,
   "metadata": {},
   "outputs": [],
   "source": []
  }
 ],
 "metadata": {
  "kernelspec": {
   "display_name": "base",
   "language": "python",
   "name": "python3"
  },
  "language_info": {
   "codemirror_mode": {
    "name": "ipython",
    "version": 3
   },
   "file_extension": ".py",
   "mimetype": "text/x-python",
   "name": "python",
   "nbconvert_exporter": "python",
   "pygments_lexer": "ipython3",
   "version": "3.12.2"
  },
  "orig_nbformat": 4
 },
 "nbformat": 4,
 "nbformat_minor": 2
}
