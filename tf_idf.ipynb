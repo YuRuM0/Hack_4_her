{
 "cells": [
  {
   "cell_type": "code",
   "execution_count": 5,
   "metadata": {},
   "outputs": [],
   "source": [
    "import pandas as pd\n",
    "import numpy as np\n",
    "from sklearn.feature_extraction.text import TfidfVectorizer\n",
    "from collections import defaultdict, Counter, OrderedDict\n",
    "\n",
    "vectorizer = TfidfVectorizer() "
   ]
  },
  {
   "cell_type": "code",
   "execution_count": 7,
   "metadata": {},
   "outputs": [
    {
     "name": "stdout",
     "output_type": "stream",
     "text": [
      "Total Job Description 366\n"
     ]
    }
   ],
   "source": [
    "synthetic_df = pd.read_csv(\"synthetic_vacancies_final.csv\")\n",
    "print(\"Total Job Description\", synthetic_df.shape[0])"
   ]
  },
  {
   "cell_type": "code",
   "execution_count": 8,
   "metadata": {},
   "outputs": [
    {
     "data": {
      "text/plain": [
       "np.float64(0.2004251684131253)"
      ]
     },
     "execution_count": 8,
     "metadata": {},
     "output_type": "execute_result"
    }
   ],
   "source": [
    "synthetic_df[\"women_proportion\"].min(axis = 0)"
   ]
  },
  {
   "cell_type": "code",
   "execution_count": 9,
   "metadata": {},
   "outputs": [
    {
     "data": {
      "text/plain": [
       "np.float64(0.7984047908310986)"
      ]
     },
     "execution_count": 9,
     "metadata": {},
     "output_type": "execute_result"
    }
   ],
   "source": [
    "synthetic_df[\"women_proportion\"].max(axis = 0)"
   ]
  },
  {
   "cell_type": "code",
   "execution_count": 10,
   "metadata": {},
   "outputs": [
    {
     "name": "stderr",
     "output_type": "stream",
     "text": [
      "/var/folders/y7/gmkgbl5d7g3bwysvwk4hcn4r0000gn/T/ipykernel_7524/2379357392.py:5: FutureWarning: The default of observed=False is deprecated and will be changed to True in a future version of pandas. Pass observed=False to retain current behavior or observed=True to adopt the future default and silence this warning.\n",
      "  grouped = synthetic_df.groupby(['women_proportion_group'])\n",
      "/var/folders/y7/gmkgbl5d7g3bwysvwk4hcn4r0000gn/T/ipykernel_7524/2379357392.py:7: FutureWarning: When grouping with a length-1 list-like, you will need to pass a length-1 tuple to get_group in a future version of pandas. Pass `(name,)` instead of `name` to silence this warning.\n",
      "  group_0_2 = grouped.get_group('0.2')\n",
      "/var/folders/y7/gmkgbl5d7g3bwysvwk4hcn4r0000gn/T/ipykernel_7524/2379357392.py:8: FutureWarning: When grouping with a length-1 list-like, you will need to pass a length-1 tuple to get_group in a future version of pandas. Pass `(name,)` instead of `name` to silence this warning.\n",
      "  group_0_3 = grouped.get_group('0.3')\n",
      "/var/folders/y7/gmkgbl5d7g3bwysvwk4hcn4r0000gn/T/ipykernel_7524/2379357392.py:9: FutureWarning: When grouping with a length-1 list-like, you will need to pass a length-1 tuple to get_group in a future version of pandas. Pass `(name,)` instead of `name` to silence this warning.\n",
      "  group_0_4 = grouped.get_group('0.4')\n",
      "/var/folders/y7/gmkgbl5d7g3bwysvwk4hcn4r0000gn/T/ipykernel_7524/2379357392.py:10: FutureWarning: When grouping with a length-1 list-like, you will need to pass a length-1 tuple to get_group in a future version of pandas. Pass `(name,)` instead of `name` to silence this warning.\n",
      "  group_0_5 = grouped.get_group('0.5')\n",
      "/var/folders/y7/gmkgbl5d7g3bwysvwk4hcn4r0000gn/T/ipykernel_7524/2379357392.py:11: FutureWarning: When grouping with a length-1 list-like, you will need to pass a length-1 tuple to get_group in a future version of pandas. Pass `(name,)` instead of `name` to silence this warning.\n",
      "  group_0_6 = grouped.get_group('0.6')\n",
      "/var/folders/y7/gmkgbl5d7g3bwysvwk4hcn4r0000gn/T/ipykernel_7524/2379357392.py:12: FutureWarning: When grouping with a length-1 list-like, you will need to pass a length-1 tuple to get_group in a future version of pandas. Pass `(name,)` instead of `name` to silence this warning.\n",
      "  group_0_7 = grouped.get_group('0.7')\n"
     ]
    }
   ],
   "source": [
    "bins = [0.2,0.3, 0.4, 0.5, 0.6, 0.7, 0.8]\n",
    "labels = ['0.2', '0.3', '0.4', '0.5', '0.6', '0.7']\n",
    "\n",
    "synthetic_df['women_proportion_group'] = pd.cut(synthetic_df['women_proportion'], bins=bins, labels=labels)\n",
    "grouped = synthetic_df.groupby(['women_proportion_group'])\n",
    "\n",
    "group_0_2 = grouped.get_group('0.2')\n",
    "group_0_3 = grouped.get_group('0.3')\n",
    "group_0_4 = grouped.get_group('0.4')\n",
    "group_0_5 = grouped.get_group('0.5')\n",
    "group_0_6 = grouped.get_group('0.6')\n",
    "group_0_7 = grouped.get_group('0.7')"
   ]
  },
  {
   "cell_type": "code",
   "execution_count": 11,
   "metadata": {},
   "outputs": [
    {
     "name": "stdout",
     "output_type": "stream",
     "text": [
      "Group: 0.2\n",
      "Top 10 words in the combined document:\n",
      "  role: 0.2679\n",
      "  high: 0.2147\n",
      "  work: 0.2069\n",
      "  technical: 0.1970\n",
      "  analytical: 0.1911\n",
      "  strong: 0.1832\n",
      "  experience: 0.1694\n",
      "  driven: 0.1537\n",
      "  security: 0.1399\n",
      "  degree: 0.1359\n",
      "\n",
      "========================================\n",
      "\n",
      "Group: 0.3\n",
      "Top 10 words in the combined document:\n",
      "  role: 0.2615\n",
      "  data: 0.2211\n",
      "  high: 0.2195\n",
      "  work: 0.2024\n",
      "  analytical: 0.1899\n",
      "  technical: 0.1821\n",
      "  experience: 0.1666\n",
      "  driven: 0.1541\n",
      "  strong: 0.1510\n",
      "  systems: 0.1386\n",
      "\n",
      "========================================\n",
      "\n",
      "Group: 0.4\n",
      "Top 10 words in the combined document:\n",
      "  work: 0.2862\n",
      "  skills: 0.2820\n",
      "  team: 0.2210\n",
      "  role: 0.2063\n",
      "  communication: 0.1936\n",
      "  strong: 0.1936\n",
      "  analytical: 0.1831\n",
      "  job: 0.1810\n",
      "  data: 0.1726\n",
      "  supportive: 0.1600\n",
      "\n",
      "========================================\n",
      "\n",
      "Group: 0.5\n",
      "Top 10 words in the combined document:\n",
      "  work: 0.2854\n",
      "  skills: 0.2638\n",
      "  team: 0.2406\n",
      "  strong: 0.2207\n",
      "  job: 0.2041\n",
      "  role: 0.1875\n",
      "  analytical: 0.1809\n",
      "  communication: 0.1792\n",
      "  experience: 0.1626\n",
      "  supportive: 0.1377\n",
      "\n",
      "========================================\n",
      "\n",
      "Group: 0.6\n",
      "Top 10 words in the combined document:\n",
      "  work: 0.4117\n",
      "  team: 0.2709\n",
      "  skills: 0.2366\n",
      "  strong: 0.2113\n",
      "  experience: 0.2095\n",
      "  role: 0.1878\n",
      "  communication: 0.1661\n",
      "  looking: 0.1391\n",
      "  requirements: 0.1372\n",
      "  ability: 0.1318\n",
      "\n",
      "========================================\n",
      "\n",
      "Group: 0.7\n",
      "Top 10 words in the combined document:\n",
      "  work: 0.3932\n",
      "  team: 0.2570\n",
      "  skills: 0.2416\n",
      "  role: 0.2065\n",
      "  experience: 0.1933\n",
      "  strong: 0.1889\n",
      "  communication: 0.1669\n",
      "  data: 0.1428\n",
      "  requirements: 0.1406\n",
      "  ability: 0.1296\n",
      "\n",
      "========================================\n",
      "\n"
     ]
    },
    {
     "name": "stderr",
     "output_type": "stream",
     "text": [
      "/var/folders/y7/gmkgbl5d7g3bwysvwk4hcn4r0000gn/T/ipykernel_7524/2162499985.py:21: FutureWarning: When grouping with a length-1 list-like, you will need to pass a length-1 tuple to get_group in a future version of pandas. Pass `(name,)` instead of `name` to silence this warning.\n",
      "  group_df = grouped.get_group(label)\n",
      "/var/folders/y7/gmkgbl5d7g3bwysvwk4hcn4r0000gn/T/ipykernel_7524/2162499985.py:21: FutureWarning: When grouping with a length-1 list-like, you will need to pass a length-1 tuple to get_group in a future version of pandas. Pass `(name,)` instead of `name` to silence this warning.\n",
      "  group_df = grouped.get_group(label)\n",
      "/var/folders/y7/gmkgbl5d7g3bwysvwk4hcn4r0000gn/T/ipykernel_7524/2162499985.py:21: FutureWarning: When grouping with a length-1 list-like, you will need to pass a length-1 tuple to get_group in a future version of pandas. Pass `(name,)` instead of `name` to silence this warning.\n",
      "  group_df = grouped.get_group(label)\n",
      "/var/folders/y7/gmkgbl5d7g3bwysvwk4hcn4r0000gn/T/ipykernel_7524/2162499985.py:21: FutureWarning: When grouping with a length-1 list-like, you will need to pass a length-1 tuple to get_group in a future version of pandas. Pass `(name,)` instead of `name` to silence this warning.\n",
      "  group_df = grouped.get_group(label)\n",
      "/var/folders/y7/gmkgbl5d7g3bwysvwk4hcn4r0000gn/T/ipykernel_7524/2162499985.py:21: FutureWarning: When grouping with a length-1 list-like, you will need to pass a length-1 tuple to get_group in a future version of pandas. Pass `(name,)` instead of `name` to silence this warning.\n",
      "  group_df = grouped.get_group(label)\n",
      "/var/folders/y7/gmkgbl5d7g3bwysvwk4hcn4r0000gn/T/ipykernel_7524/2162499985.py:21: FutureWarning: When grouping with a length-1 list-like, you will need to pass a length-1 tuple to get_group in a future version of pandas. Pass `(name,)` instead of `name` to silence this warning.\n",
      "  group_df = grouped.get_group(label)\n"
     ]
    }
   ],
   "source": [
    "# Assume you already have:\n",
    "# bins, labels, synthetic_df, and grouped as before\n",
    "\n",
    "def print_top_tfidf_words_single_doc(df, text_column, top_n=10):\n",
    "    import numpy as np\n",
    "    from sklearn.feature_extraction.text import TfidfVectorizer\n",
    "    combined_text = \" \".join(df[text_column].astype(str).values)\n",
    "    vectorizer = TfidfVectorizer(stop_words='english')\n",
    "    tfidf_matrix = vectorizer.fit_transform([combined_text])\n",
    "    feature_names = vectorizer.get_feature_names_out()\n",
    "    row_array = tfidf_matrix.toarray().flatten()\n",
    "    top_indices = np.argsort(row_array)[-top_n:][::-1]\n",
    "    top_words_scores = [(feature_names[i], row_array[i]) for i in top_indices]\n",
    "    print(f\"Top {top_n} words in the combined document:\")\n",
    "    for word, score in top_words_scores:\n",
    "        print(f\"  {word}: {score:.4f}\")\n",
    "    print(\"\\n\" + \"=\"*40 + \"\\n\")\n",
    "\n",
    "for label in labels:\n",
    "    print(f\"Group: {label}\")\n",
    "    group_df = grouped.get_group(label)\n",
    "    print_top_tfidf_words_single_doc(group_df, 'job_description')\n",
    "\n"
   ]
  },
  {
   "cell_type": "markdown",
   "metadata": {},
   "source": [
    "TF-IDF highlights words that characterise a specific job description.\n",
    "\n",
    "For each job ad, take the top 5 TF-IDF words\n",
    "Group ads by high vs low women_proportion\n",
    "See which words keep appearing in each group\n",
    "See which TF-IDF words statistically associate with higher/lower women’s application rates\n",
    "Build a regression model (e.g., Ridge or Lasso) to predict women_proportion from TF-IDF vectors"
   ]
  },
  {
   "cell_type": "markdown",
   "metadata": {},
   "source": [
    "## Just titles & Distribution"
   ]
  },
  {
   "cell_type": "code",
   "execution_count": 13,
   "metadata": {},
   "outputs": [
    {
     "name": "stdout",
     "output_type": "stream",
     "text": [
      "0             IT Support Technician\n",
      "1                    Data Scientist\n",
      "2      Information Security Manager\n",
      "3                   People Analyst \n",
      "4               eLearning Developer\n",
      "5         Web Content Administrator\n",
      "6                   Release Manager\n",
      "7               Cloud Administrator\n",
      "8             Cybersecurity analyst\n",
      "9          user interface developer\n",
      "10                  Product Manager\n",
      "11              IT Security Analyst\n",
      "12            Systems Administrator\n",
      "13             Head of Data Science\n",
      "14         Customer Success Manager\n",
      "15              ICT Project Manager\n",
      "16                CRM Administrator\n",
      "17                       QA Manager\n",
      "18                     Data analyst\n",
      "19               software developer\n",
      "Name: job_title, dtype: object\n"
     ]
    }
   ],
   "source": [
    "synthetic_df = pd.read_csv(\"synthetic_vacancies_final.csv\")\n",
    "for row in synthetic_df:\n",
    "\tsynthetic_df['job_title'] = synthetic_df['job_description'].str.extract(r':([a-zA-Z ]+?)[^a-zA-Z ]')\n",
    "\n",
    "print(synthetic_df['job_title'][:20])"
   ]
  },
  {
   "cell_type": "code",
   "execution_count": 14,
   "metadata": {},
   "outputs": [
    {
     "name": "stdout",
     "output_type": "stream",
     "text": [
      "                   job_title  \\\n",
      "0                AI Engineer   \n",
      "1              AI Specialist   \n",
      "2               AI developer   \n",
      "3              API Developer   \n",
      "4   Accessibility Specialist   \n",
      "5                Agile Coach   \n",
      "6          Analytics Manager   \n",
      "7    Applications Programmer   \n",
      "8         Augmented Reality    \n",
      "9        Automation Engineer   \n",
      "\n",
      "                                     job_description  women_proportion  \n",
      "0  Title: AI Engineer. Description: We are seekin...          0.242807  \n",
      "1  Job Title: AI Specialist. Job Description: Our...          0.466205  \n",
      "2  Job Title: AI developer\\nJob Description: We a...          0.611627  \n",
      "3  Title: API Developer. Description: We are seek...          0.236169  \n",
      "4  Title: Accessibility Specialist. Description: ...          0.696352  \n",
      "5  Job Title: Agile Coach. Job Description: We ar...          0.479122  \n",
      "6  Title: Analytics Manager. Description: We are ...          0.329788  \n",
      "7  Job Title: Applications Programmer. Job Descri...          0.527956  \n",
      "8  Title: Augmented Reality (AR) Developer. Descr...          0.382348  \n",
      "9  Title: Automation Engineer. Description: We ar...          0.317652  \n"
     ]
    }
   ],
   "source": [
    "job_grouped = synthetic_df.groupby('job_title').agg({\n",
    "\t'job_description': ' '.join,\n",
    "\t'women_proportion': 'mean'\n",
    "}).reset_index()\n",
    "\n",
    "\n",
    "print(job_grouped[:10])"
   ]
  },
  {
   "cell_type": "code",
   "execution_count": 24,
   "metadata": {},
   "outputs": [
    {
     "name": "stdout",
     "output_type": "stream",
     "text": [
      "Defaulting to user installation because normal site-packages is not writeable\n",
      "Collecting genderdecoder3\n",
      "  Downloading genderdecoder3-0.5.tar.gz (3.0 kB)\n",
      "  Preparing metadata (setup.py) ... \u001b[?25ldone\n",
      "\u001b[?25hBuilding wheels for collected packages: genderdecoder3\n",
      "\u001b[33m  DEPRECATION: Building 'genderdecoder3' using the legacy setup.py bdist_wheel mechanism, which will be removed in a future version. pip 25.3 will enforce this behaviour change. A possible replacement is to use the standardized build interface by setting the `--use-pep517` option, (possibly combined with `--no-build-isolation`), or adding a `pyproject.toml` file to the source tree of 'genderdecoder3'. Discussion can be found at https://github.com/pypa/pip/issues/6334\u001b[0m\u001b[33m\n",
      "\u001b[0m  Building wheel for genderdecoder3 (setup.py) ... \u001b[?25ldone\n",
      "\u001b[?25h  Created wheel for genderdecoder3: filename=genderdecoder3-0.5-py3-none-any.whl size=3015 sha256=7a9f7ed18113870f313f9056946271276752a4ee0134b37e378ebf45bdb43647\n",
      "  Stored in directory: /Users/tutku/Library/Caches/pip/wheels/d7/58/39/ec80f401ac2ef96564a07f339d6862a83d267aa264824c1839\n",
      "Successfully built genderdecoder3\n",
      "Installing collected packages: genderdecoder3\n",
      "Successfully installed genderdecoder3-0.5\n"
     ]
    }
   ],
   "source": [
    "! pip3 install genderdecoder3"
   ]
  },
  {
   "cell_type": "code",
   "execution_count": 26,
   "metadata": {},
   "outputs": [],
   "source": [
    "import genderdecoder3"
   ]
  },
  {
   "cell_type": "code",
   "execution_count": 30,
   "metadata": {},
   "outputs": [
    {
     "name": "stdout",
     "output_type": "stream",
     "text": [
      "{'result': 'masculine-coded', 'explanation': 'This job ad uses more words that are stereotypically masculine than words that are stereotypically feminine. It risks putting women off applying, but will probably encourage men to apply.', 'masculine_coded_words': ['Analyst', 'analyst\\\\nJob'], 'feminine_coded_words': ['Support']}\n"
     ]
    }
   ],
   "source": [
    "job_description = synthetic_df['job_description'][:10]\n",
    "print(genderdecoder3.assess(job_description.to_string()))"
   ]
  },
  {
   "cell_type": "code",
   "execution_count": 28,
   "metadata": {},
   "outputs": [
    {
     "data": {
      "text/plain": [
       "pandas.core.series.Series"
      ]
     },
     "execution_count": 28,
     "metadata": {},
     "output_type": "execute_result"
    }
   ],
   "source": [
    "type(job_description)"
   ]
  }
 ],
 "metadata": {
  "kernelspec": {
   "display_name": "Python 3",
   "language": "python",
   "name": "python3"
  },
  "language_info": {
   "codemirror_mode": {
    "name": "ipython",
    "version": 3
   },
   "file_extension": ".py",
   "mimetype": "text/x-python",
   "name": "python",
   "nbconvert_exporter": "python",
   "pygments_lexer": "ipython3",
   "version": "3.9.6"
  },
  "orig_nbformat": 4
 },
 "nbformat": 4,
 "nbformat_minor": 2
}
